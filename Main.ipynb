{
 "cells": [
  {
   "cell_type": "code",
   "execution_count": 1,
   "metadata": {},
   "outputs": [],
   "source": [
    "import os\n",
    "import scipy\n",
    "import matplotlib.pyplot as plt\n",
    "import string\n",
    "import numpy as np\n",
    "from sklearn.feature_extraction.text import CountVectorizer\n",
    "from sklearn.preprocessing import normalize\n",
    "import pandas as pd\n",
    "from sklearn.linear_model import LogisticRegression\n",
    "from maxentropy import MinDivergenceModel"
   ]
  },
  {
   "cell_type": "code",
   "execution_count": 2,
   "metadata": {
    "scrolled": false
   },
   "outputs": [],
   "source": [
    "##Import Training Sample S\n",
    "\n",
    "path = './data/house_debates_training/'\n",
    "files = os.listdir(path)\n",
    "D = {f[:-1] : {} for f in files}\n",
    "for f in files:\n",
    "    D[f[:-1]][f[-1]] = f\n",
    "    S = {'e' : [], 'f' : []}\n",
    "for pair in D:\n",
    "    for language in D[pair]:\n",
    "        sentences = open(path + pair + language, encoding = 'latin1').read().split('\\n')\n",
    "        sentences = sentences[[i for i in range(len(sentences)) if 'HANSARD' in sentences[i]][1] + 1:]\n",
    "        for sentence in sentences:\n",
    "            if language == 'e':\n",
    "                s = 'NULL '\n",
    "            else:\n",
    "                s = ''\n",
    "            S[language].append(s + sentence)"
   ]
  },
  {
   "cell_type": "code",
   "execution_count": 3,
   "metadata": {},
   "outputs": [],
   "source": [
    "##Filter Bad Alignments\n",
    "\n",
    "L = {'e' : [], 'f' : []}\n",
    "for e, f in zip(S['e'], S['f']):\n",
    "    if abs(len(e) - len(f)) <= 40:\n",
    "        L['e'].append(e)\n",
    "        L['f'].append(f)"
   ]
  },
  {
   "cell_type": "code",
   "execution_count": 3,
   "metadata": {},
   "outputs": [],
   "source": [
    "##Count Vectorize\n",
    "tp = '(?u)\\\\b\\\\w+\\\\b'\n",
    "def cvec(S):\n",
    "    cv = {'e' : CountVectorizer(token_pattern = tp), 'f' : CountVectorizer(token_pattern = tp)}\n",
    "    for language in S:\n",
    "        cv[language].fit(S[language])\n",
    "    return cv"
   ]
  },
  {
   "cell_type": "code",
   "execution_count": 4,
   "metadata": {},
   "outputs": [],
   "source": [
    "## One-Hot Vectorize\n",
    "\n",
    "def ohvec(S, cv):\n",
    "    analyzer = {'e' : cv['e'].build_analyzer(), 'f' : cv['f'].build_analyzer()}\n",
    "    oh = {'e' : [], 'f' : []}\n",
    "    for english, french in zip(S['e'], S['f']):\n",
    "        e = analyzer['e'](english)\n",
    "        f = analyzer['f'](french)\n",
    "        oh['e'].append(cv['e'].transform(e).T)\n",
    "        oh['f'].append(cv['f'].transform(f).T)\n",
    "    return oh"
   ]
  },
  {
   "cell_type": "code",
   "execution_count": 5,
   "metadata": {},
   "outputs": [],
   "source": [
    "## Words to Numbers\n",
    "\n",
    "def numvec(S, cv):\n",
    "    analyzer = {'e' : cv['e'].build_analyzer(), 'f' : cv['f'].build_analyzer()}\n",
    "    oh = {'e' : [], 'f' : []}\n",
    "    for english, french in zip(S['e'], S['f']):\n",
    "        e = analyzer['e'](english)\n",
    "        f = analyzer['f'](french)\n",
    "        oh['e'].append([cv['e'].vocabulary_[word] for word in e])\n",
    "        oh['f'].append([cv['f'].vocabulary_[word] for word in f])\n",
    "    return oh"
   ]
  },
  {
   "cell_type": "code",
   "execution_count": 6,
   "metadata": {},
   "outputs": [],
   "source": [
    "##Limit\n",
    "\n",
    "def lim(S, l):\n",
    "    return {language : S[language][:l] for language in S}"
   ]
  },
  {
   "cell_type": "code",
   "execution_count": 122,
   "metadata": {},
   "outputs": [
    {
     "name": "stdout",
     "output_type": "stream",
     "text": [
      "7.19 s ± 497 ms per loop (mean ± std. dev. of 7 runs, 1 loop each)\n"
     ]
    }
   ],
   "source": [
    "%%timeit\n",
    "E @ (F.T / (E.T @ translation_1))"
   ]
  },
  {
   "cell_type": "code",
   "execution_count": 124,
   "metadata": {},
   "outputs": [
    {
     "data": {
      "text/plain": [
       "matrix([[0., 0., 0., ..., 0., 0., 0.],\n",
       "        [0., 0., 0., ..., 0., 0., 0.],\n",
       "        [0., 0., 0., ..., 0., 0., 0.],\n",
       "        ...,\n",
       "        [0., 0., 0., ..., 0., 0., 0.],\n",
       "        [0., 0., 0., ..., 0., 0., 0.],\n",
       "        [0., 0., 0., ..., 0., 0., 0.]])"
      ]
     },
     "execution_count": 124,
     "metadata": {},
     "output_type": "execute_result"
    }
   ],
   "source": [
    "F.T / (E.T @ translation_1)"
   ]
  },
  {
   "cell_type": "code",
   "execution_count": 123,
   "metadata": {},
   "outputs": [
    {
     "name": "stdout",
     "output_type": "stream",
     "text": [
      "6.3 s ± 201 ms per loop (mean ± std. dev. of 7 runs, 1 loop each)\n"
     ]
    }
   ],
   "source": [
    "%%timeit\n",
    "E @ scipy.sparse.csr_matrix(F.T / (E.T @ translation_1))"
   ]
  },
  {
   "cell_type": "code",
   "execution_count": 142,
   "metadata": {},
   "outputs": [],
   "source": [
    "def IBM1(E, F, translation):\n",
    "    with np.errstate(divide='ignore', invalid='ignore'):\n",
    "        t = np.multiply(translation, E @ (F.T / (E.T @ translation)))\n",
    "    t[~np.isfinite(t)] = 0\n",
    "    t = normalize(t, 'l1')\n",
    "    error = np.max(abs(translation_matrix - t))\n",
    "    return (t, error)"
   ]
  },
  {
   "cell_type": "code",
   "execution_count": 16,
   "metadata": {},
   "outputs": [],
   "source": [
    "def IBM2(E, F, translation, alignment):\n",
    "    t = np.zeros(translation.shape)\n",
    "    a = np.array([[np.zeros((m + 1, l + 1)) for l in range(alignment.shape[1])] \n",
    "                                            for m in range(alignment.shape[0])])\n",
    "    for e, f in zip(E, F):\n",
    "        m, l = len(f), len(e)\n",
    "        for j in range(m):  \n",
    "            denominator = translation[e, f[j]] @ alignment[m - 1, l - 1][j, :]\n",
    "            for i in range(l):\n",
    "                if translation[e[i], f[j]] and alignment[m - 1, l - 1][j, i]:\n",
    "                    summand = translation[e[i], f[j]] * alignment[m - 1, l - 1][j, i] / denominator\n",
    "                    t[e[i], f[j]] += summand\n",
    "                    a[m - 1, l - 1][j, i] += summand\n",
    "    t = normalize(t, 'l1')\n",
    "    translation_error = np.max(abs(translation - t))\n",
    "    alignment_error = np.zeros_like(alignment)\n",
    "    for m in range(a.shape[0]):\n",
    "        for l in range(a.shape[1]):\n",
    "            if a[m, l].any():\n",
    "                a[m, l] = normalize(a[m, l], 'l1')\n",
    "                alignment_error[m, l] = np.max(abs(alignment[m, l] - a[m, l]))               \n",
    "    alignment_error = np.max(alignment_error)\n",
    "    return (t, a, translation_error, alignment_error)"
   ]
  },
  {
   "cell_type": "code",
   "execution_count": 103,
   "metadata": {},
   "outputs": [],
   "source": [
    "def IBM3(E, F, translation, alignment, distortion, fertility, fertility0):\n",
    "    t = np.zeros(translation.shape)\n",
    "    d = np.array([[np.zeros((m + 1, l + 1)) for l in range(distortion.shape[1])] \n",
    "                                            for m in range(distortion.shape[0])])\n",
    "    f = np.zeros(fertility.shape)\n",
    "    f0 = np.zeros(fertility0.shape)\n",
    "    \n",
    "    for e, f in zip(E, F):\n",
    "       m, l = len(f), len(e)\n",
    "    "
   ]
  },
  {
   "cell_type": "code",
   "execution_count": null,
   "metadata": {},
   "outputs": [],
   "source": [
    "def(E, F, translation, alignment, distortion)"
   ]
  },
  {
   "cell_type": "code",
   "execution_count": 138,
   "metadata": {
    "scrolled": true
   },
   "outputs": [],
   "source": [
    "def compute_IBM1(E, F, threshold):\n",
    "    error = 1\n",
    "    convergence = []\n",
    "    translation = normalize(np.ones((E.shape[0], F.shape[0])), 'l1')\n",
    "    while error > threshold:\n",
    "        translation, error = IBM1(E, F, translation)\n",
    "        convergence.append(error)\n",
    "    plt.plot(convergence, color = 'r')\n",
    "    plt.axhline(threshold, color = 'k')\n",
    "    plt.show()\n",
    "    return translation"
   ]
  },
  {
   "cell_type": "code",
   "execution_count": 14,
   "metadata": {},
   "outputs": [],
   "source": [
    "def compute_IBM2(E, F, translation, threshold):\n",
    "    translation_error = alignment_error = 1\n",
    "    convergence = {'translation' : [], 'alignment' : []}\n",
    "    L = max(len(e) for e in E)\n",
    "    M = max(len(f) for f in F)\n",
    "    t = translation.copy()\n",
    "    a = np.array([[normalize(np.ones((m + 1, l + 1)), 'l1') for l in range(L)] for m in range(M)])\n",
    "    while max(translation_error, alignment_error) > threshold:\n",
    "        t, a, translation_error, alignment_error = IBM2(EN, FR, t, a)\n",
    "        convergence['translation'].append(translation_error)\n",
    "        convergence['alignment'].append(alignment_error)\n",
    "    plt.plot(convergence['translation'], color = 'r')\n",
    "    plt.plot(convergence['alignment'], color = 'b')\n",
    "    plt.axhline(threshold, color = 'k')\n",
    "    plt.show()\n",
    "    return (t, a)"
   ]
  },
  {
   "cell_type": "code",
   "execution_count": null,
   "metadata": {},
   "outputs": [],
   "source": [
    "def compute_IBM3(E, F, translation, alignment, threshold):\n",
    "    L = max(len(e) for e in E)\n",
    "    M = max(len(f) for f in F)\n",
    "    t = translation.copy()\n",
    "    a = np.array([[normalize(np.ones((m + 1, l + 1)), 'l1') for l in range(L)] for m in range(M)])\n",
    "    while max(translation_error, alignment_error) > threshold:\n",
    "        t, a, translation_error, alignment_error = IBM2(EN, FR, t, a)\n",
    "        convergence['translation'].append(translation_error)\n",
    "        convergence['alignment'].append(alignment_error)\n",
    "    plt.plot(convergence['translation'], color = 'r')\n",
    "    plt.plot(convergence['alignment'], color = 'b')\n",
    "    plt.axhline(threshold, color = 'k')\n",
    "    plt.show()\n",
    "    return (t, a)"
   ]
  },
  {
   "cell_type": "code",
   "execution_count": 10,
   "metadata": {},
   "outputs": [],
   "source": [
    "M = lim(S, 10_000)\n",
    "cv = cvec(M)\n",
    "E = cv['e'].transform(M['e']).T\n",
    "F = cv['f'].transform(M['f']).T"
   ]
  },
  {
   "cell_type": "code",
   "execution_count": 88,
   "metadata": {},
   "outputs": [
    {
     "data": {
      "image/png": "[encoded data removed]",
      "text/plain": [
       "<Figure size 432x288 with 1 Axes>"
      ]
     },
     "metadata": {
      "needs_background": "light"
     },
     "output_type": "display_data"
    }
   ],
   "source": [
    "t = scipy.sparse.csr_matrix(compute_IBM1(E, F, 0.01))\n",
    "scipy.sparse.save_npz('translation_IBM_1', t)"
   ]
  },
  {
   "cell_type": "code",
   "execution_count": 11,
   "metadata": {},
   "outputs": [],
   "source": [
    "nm = numvec(M, cv)\n",
    "EN = nm['e']\n",
    "FR = nm['f']"
   ]
  },
  {
   "cell_type": "code",
   "execution_count": 3,
   "metadata": {},
   "outputs": [],
   "source": [
    "translation = scipy.sparse.load_npz('./translation_IBM_1.npz')"
   ]
  },
  {
   "cell_type": "code",
   "execution_count": 16,
   "metadata": {},
   "outputs": [
    {
     "data": {
      "image/png": "[encoded data removed]",
      "text/plain": [
       "<Figure size 432x288 with 1 Axes>"
      ]
     },
     "metadata": {
      "needs_background": "light"
     },
     "output_type": "display_data"
    }
   ],
   "source": [
    "translation_2, alignment_2 = compute_IBM2(EN, FR, translation.toarray(), 0.02)\n",
    "t = scipy.sparse.csr_matrix(translation_2)\n",
    "scipy.sparse.save_npz('translation_IBM_2', t)\n",
    "a = np.empty(alignment_2.shape, dtype = object)\n",
    "for i in range(a.shape[0]):\n",
    "    for j in range(a.shape[1]):\n",
    "        a[i, j] = scipy.sparse.csr_matrix(alignment_2[i, j])\n",
    "np.save('alignment_IBM_2', a)"
   ]
  },
  {
   "cell_type": "code",
   "execution_count": 7,
   "metadata": {},
   "outputs": [],
   "source": [
    "translation_2 = scipy.sparse.load_npz('./translation_IBM_2.npz')\n",
    "alignment_2 = np.load('./alignment_IBM_2.npy', allow_pickle = True)\n",
    "translation_1 = scipy.sparse.load_npz('./translation_IBM_1.npz')"
   ]
  },
  {
   "cell_type": "code",
   "execution_count": 9,
   "metadata": {},
   "outputs": [],
   "source": [
    "def translate_word(word, n, translation):\n",
    "    word = word.lower()\n",
    "    guess = []\n",
    "    t = translation.toarray()\n",
    "    finv = {cv['f'].vocabulary_[word] : word for word in cv['f'].vocabulary_}\n",
    "    if not word in cv['e'].vocabulary_:\n",
    "        return 'Not Found'\n",
    "    word_id = cv['e'].vocabulary_[word]\n",
    "    translations = t[word_id, :]\n",
    "    for i in range(n):\n",
    "        translated_id = np.argmax(translations)\n",
    "        guess.append([finv[translated_id], t[word_id, translated_id]])\n",
    "        translations[translated_id] = 0\n",
    "    return pd.DataFrame(guess)"
   ]
  },
  {
   "cell_type": "code",
   "execution_count": 12,
   "metadata": {},
   "outputs": [],
   "source": [
    "EN[100]\n",
    "FR[100]\n",
    "e = EN[100]\n",
    "f = FR[100]"
   ]
  },
  {
   "cell_type": "code",
   "execution_count": 28,
   "metadata": {},
   "outputs": [],
   "source": [
    "L = max(len(e) for e in EN)\n",
    "M = max(len(f) for f in FR)\n",
    "d = np.array([[normalize(np.ones((l + 1, m + 1)), 'l1') for m in range(M)] for l in range(L)])\n",
    "ft = np.ones([L - 1, M])\n",
    "ft = normalize(ft)\n",
    "ft0 = 0.5"
   ]
  },
  {
   "cell_type": "code",
   "execution_count": 15,
   "metadata": {},
   "outputs": [
    {
     "data": {
      "text/plain": [
       "<45x47 sparse matrix of type '<class 'numpy.float64'>'\n",
       "\twith 730 stored elements in Compressed Sparse Row format>"
      ]
     },
     "execution_count": 15,
     "metadata": {},
     "output_type": "execute_result"
    }
   ],
   "source": [
    "translation_2[e][:, f]"
   ]
  },
  {
   "cell_type": "code",
   "execution_count": 29,
   "metadata": {},
   "outputs": [],
   "source": [
    "m, l = len(f), len(e)\n",
    "switch = np.zeros([len(e), len(f)])\n",
    "swap = np.zeros([len(f), len(f)])\n",
    "d = d[l - 1, m - 1]\n",
    "t = translation_2[e][:, f]\n",
    "fff = [alignment]"
   ]
  },
  {
   "cell_type": "code",
   "execution_count": 26,
   "metadata": {},
   "outputs": [
    {
     "data": {
      "text/plain": [
       "(45, 47)"
      ]
     },
     "execution_count": 26,
     "metadata": {},
     "output_type": "execute_result"
    }
   ],
   "source": [
    "t.shape"
   ]
  },
  {
   "cell_type": "code",
   "execution_count": 30,
   "metadata": {},
   "outputs": [
    {
     "data": {
      "text/plain": [
       "(45, 47)"
      ]
     },
     "execution_count": 30,
     "metadata": {},
     "output_type": "execute_result"
    }
   ],
   "source": [
    "d.shape"
   ]
  },
  {
   "cell_type": "code",
   "execution_count": 51,
   "metadata": {},
   "outputs": [],
   "source": [
    "def Viterbi(e, f, translation, alignment):\n",
    "    l = len(e)\n",
    "    m = len(f)\n",
    "    M = np.argmax(translation_2[e][:, f].multiply(alignment_2[m - 1, l - 1].T), axis = 0)\n",
    "    return list(np.array(M)[0])\n",
    "\n",
    "def hillclimb(e, f, translation, alignment, distortion, fertility, fertility0):\n",
    "    m, l = len(f), len(e)\n",
    "    switch = np.zeros([len(e), len(f)])\n",
    "    swap = np.zeros([len(f), len(f)])\n",
    "    d = distortion[m - 1, l - 1]\n",
    "    t = translation_2[e][:, f]\n",
    "    sa = Viterbi(e, f, translation, alignment)\n",
    "    fff = [Viterbi.count(i) for i in range(1, l)]"
   ]
  },
  {
   "cell_type": "code",
   "execution_count": 49,
   "metadata": {},
   "outputs": [],
   "source": [
    "v = Viterbi(e, f, translation_2, alignment_2)"
   ]
  },
  {
   "cell_type": "code",
   "execution_count": 43,
   "metadata": {},
   "outputs": [],
   "source": [
    "r = np.array(v)[0]"
   ]
  },
  {
   "cell_type": "code",
   "execution_count": 50,
   "metadata": {},
   "outputs": [
    {
     "data": {
      "text/plain": [
       "2"
      ]
     },
     "execution_count": 50,
     "metadata": {},
     "output_type": "execute_result"
    }
   ],
   "source": [
    "v.count(3)"
   ]
  },
  {
   "cell_type": "code",
   "execution_count": 25,
   "metadata": {},
   "outputs": [],
   "source": [
    "l = len(e)\n",
    "m = len(f)"
   ]
  },
  {
   "cell_type": "code",
   "execution_count": 44,
   "metadata": {},
   "outputs": [
    {
     "data": {
      "text/plain": [
       "<45x1 sparse matrix of type '<class 'numpy.float64'>'\n",
       "\twith 38 stored elements in Compressed Sparse Row format>"
      ]
     },
     "execution_count": 44,
     "metadata": {},
     "output_type": "execute_result"
    }
   ],
   "source": [
    "translation_2[e, f[0]]"
   ]
  },
  {
   "cell_type": "code",
   "execution_count": 35,
   "metadata": {},
   "outputs": [
    {
     "data": {
      "text/plain": [
       "<45x1 sparse matrix of type '<class 'numpy.float64'>'\n",
       "\twith 6 stored elements in Compressed Sparse Row format>"
      ]
     },
     "execution_count": 35,
     "metadata": {},
     "output_type": "execute_result"
    }
   ],
   "source": [
    "translation_2[e, f[0]].multiply(alignment_2[m - 1, l - 1][0, :].T)"
   ]
  },
  {
   "cell_type": "code",
   "execution_count": 34,
   "metadata": {},
   "outputs": [
    {
     "data": {
      "text/plain": [
       "<45x45 sparse matrix of type '<class 'numpy.float64'>'\n",
       "\twith 81 stored elements in Compressed Sparse Row format>"
      ]
     },
     "execution_count": 34,
     "metadata": {},
     "output_type": "execute_result"
    }
   ],
   "source": [
    "alignment_2[m - 1, l - 1][0, :].multiply(translation_2[e, f[0]])"
   ]
  },
  {
   "cell_type": "code",
   "execution_count": 14,
   "metadata": {
    "scrolled": true
   },
   "outputs": [
    {
     "name": "stdout",
     "output_type": "stream",
     "text": [
      "    0             1\n",
      "0  je  6.723765e-01\n",
      "1   j  2.846594e-01\n",
      "2  ai  4.096902e-02\n",
      "3   c  1.995082e-03\n",
      "4  il  5.530836e-12\n",
      "     0         1\n",
      "0   je  0.614381\n",
      "1    j  0.249563\n",
      "2   ai  0.133700\n",
      "3  que  0.002341\n",
      "4   le  0.000005\n"
     ]
    }
   ],
   "source": [
    "string = 'i'\n",
    "print(translate_word(string, 5, translation_2))\n",
    "print(translate_word(string, 5, translation_1))"
   ]
  },
  {
   "cell_type": "code",
   "execution_count": 2,
   "metadata": {},
   "outputs": [
    {
     "ename": "NameError",
     "evalue": "name 't2' is not defined",
     "output_type": "error",
     "traceback": [
      "\u001b[0;31m---------------------------------------------------------------------------\u001b[0m",
      "\u001b[0;31mNameError\u001b[0m                                 Traceback (most recent call last)",
      "\u001b[0;32m<ipython-input-2-9d89cfda2b85>\u001b[0m in \u001b[0;36m<module>\u001b[0;34m\u001b[0m\n\u001b[1;32m     27\u001b[0m     \u001b[0mprint\u001b[0m\u001b[0;34m(\u001b[0m\u001b[0mF\u001b[0m\u001b[0;34m)\u001b[0m\u001b[0;34m\u001b[0m\u001b[0;34m\u001b[0m\u001b[0m\n\u001b[1;32m     28\u001b[0m \u001b[0;34m\u001b[0m\u001b[0m\n\u001b[0;32m---> 29\u001b[0;31m \u001b[0mguess\u001b[0m\u001b[0;34m(\u001b[0m\u001b[0;34m'Je suis ravi de vous rencontrer'\u001b[0m\u001b[0;34m,\u001b[0m \u001b[0mt2\u001b[0m\u001b[0;34m,\u001b[0m \u001b[0ma2\u001b[0m\u001b[0;34m,\u001b[0m \u001b[0mep\u001b[0m\u001b[0;34m)\u001b[0m\u001b[0;34m\u001b[0m\u001b[0;34m\u001b[0m\u001b[0m\n\u001b[0m",
      "\u001b[0;31mNameError\u001b[0m: name 't2' is not defined"
     ]
    }
   ],
   "source": [
    "def guess(e, translation, alignment, epsilon):\n",
    "    #Length\n",
    "    Y = [0, 0]\n",
    "    for p in epsilon:\n",
    "        if p[0] == len(e):\n",
    "            if epsilon[p] > Y[0]:\n",
    "                Y = [epsilon[p], p[1]]\n",
    "    length_g = Y[1]\n",
    "    print(length_g)\n",
    "    #Alignment\n",
    "    a = []\n",
    "    for j in range(length_g):\n",
    "        A = np.array([alignment[(i, j, len(e), length_g)] for i in range(len(e))])\n",
    "        a.append(np.argmax(A))\n",
    "    print(a)\n",
    "    #Words\n",
    "    french_words = {p[1] for p in translation}\n",
    "    F = []\n",
    "    for j in range(length_g):\n",
    "        M = [0, 'NULL']\n",
    "        for f in french_words:\n",
    "            if (tokenize(e)[a[j]], f) in translation:\n",
    "                t = translation[(tokenize(e)[a[j]], f)] > M[0]\n",
    "                if t > M[0]:\n",
    "                    M = [t, f]\n",
    "        F.append(f)\n",
    "    print(F)\n",
    "\n",
    "guess('Je suis ravi de vous rencontrer', t2, a2, ep)"
   ]
  },
  {
   "cell_type": "code",
   "execution_count": 132,
   "metadata": {},
   "outputs": [],
   "source": [
    "##Language Model (Trigrams)\n",
    "\n",
    "alpha = 0.0002\n",
    "\n",
    "def ngrams(L, n):\n",
    "    return [tuple(L[i:i+n]) for i in range(len(L) - n)]\n",
    "\n",
    "def to_ngrams(S, n):\n",
    "    T = []\n",
    "    for e in S['e']:\n",
    "        T = [*T, *ngrams(e, n)]\n",
    "    return T\n",
    "\n",
    "def LM(T):\n",
    "    K = {}\n",
    "    C = {}\n",
    "    for t in T:\n",
    "        K[t[:-1]] = 0\n",
    "        C[t] = 0\n",
    "    for t in T:\n",
    "        K[t[:-1]] = K[t[:-1]] + 1\n",
    "        C[t] = C[t] + 1\n",
    "    return {t : C[t] / K[t[:-1]] for t in C}\n",
    "\n",
    "\n",
    "def PLM(e, D):\n",
    "    T = ngrams(e)\n",
    "    return np.product(D[t] + 0.01 for t in T)"
   ]
  }
 ],
 "metadata": {
  "kernelspec": {
   "display_name": "Python 3",
   "language": "python",
   "name": "python3"
  },
  "language_info": {
   "codemirror_mode": {
    "name": "ipython",
    "version": 3
   },
   "file_extension": ".py",
   "mimetype": "text/x-python",
   "name": "python",
   "nbconvert_exporter": "python",
   "pygments_lexer": "ipython3",
   "version": "3.7.3"
  }
 },
 "nbformat": 4,
 "nbformat_minor": 2
}
