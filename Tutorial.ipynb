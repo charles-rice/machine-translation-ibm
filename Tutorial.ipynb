{
 "cells": [
  {
   "cell_type": "code",
   "execution_count": 1,
   "metadata": {},
   "outputs": [],
   "source": [
    "import pickle\n",
    "from vectorizers import *\n",
    "from language_models import *\n",
    "from translation_models import *\n",
    "from decoders import *"
   ]
  },
  {
   "cell_type": "code",
   "execution_count": 2,
   "metadata": {},
   "outputs": [],
   "source": [
    "# The file example.pickle contains a several models trained on a corpus of 27_000 aligned French and English strings.\n",
    "\n",
    "# tm1 is an IBM1 translation model\n",
    "# tm2 is an IBM2 translation model\n",
    "# lm is a bigram language model\n",
    "# v is a Vectorizer object\n",
    "\n",
    "with open('example.pickle', 'rb') as handle:\n",
    "    tm1, tm2, lm, v = pickle.load(handle)"
   ]
  },
  {
   "cell_type": "code",
   "execution_count": 3,
   "metadata": {},
   "outputs": [
    {
     "name": "stdout",
     "output_type": "stream",
     "text": [
      "i telehomecare therefore i am\n",
      "i think we therefore i am\n"
     ]
    }
   ],
   "source": [
    "# The decode function takes a string, a translation model, a language model, a vectorizer, and a number n.\n",
    "# It returns up to n translations, each better than the last.\n",
    "# Some bad behavior:\n",
    "### If a word is unknown, the decoder throws an error.\n",
    "### The decoder is quite slow.\n",
    "\n",
    "string = 'je pense, donc je suis'\n",
    "\n",
    "decode(string, tm1, lm, v, 10)"
   ]
  },
  {
   "cell_type": "code",
   "execution_count": 4,
   "metadata": {},
   "outputs": [
    {
     "name": "stdout",
     "output_type": "stream",
     "text": [
      "i sore therefore i am\n",
      "i therefore i am\n"
     ]
    }
   ],
   "source": [
    "decode(string, tm2, lm, v, 10)"
   ]
  },
  {
   "cell_type": "markdown",
   "metadata": {},
   "source": [
    "# Fitting Your Own Model"
   ]
  },
  {
   "cell_type": "code",
   "execution_count": 5,
   "metadata": {},
   "outputs": [],
   "source": [
    "# Data should be a dictionary of the form {input_language : list_of_strings, output_language : list_of_strings}.\n",
    "# The file hansards.pickle contains 400_000 aligned French and English strings.\n",
    "# To facilitate quick learning, we load 5_000.\n",
    "# For a functional translator, I recommend loading more.\n",
    "\n",
    "sample_size = 5_000\n",
    "\n",
    "def load_sample(sample_size):\n",
    "    with open('hansards.pickle', 'rb') as handle:\n",
    "        S = pickle.load(handle)\n",
    "    return {key : S[key][:sample_size] for key in S}\n",
    "\n",
    "S = load_sample(min(400_000, sample_size))"
   ]
  },
  {
   "cell_type": "code",
   "execution_count": 6,
   "metadata": {},
   "outputs": [],
   "source": [
    "# First, vectorize and filter the sample.\n",
    "# Vectorizer instantiates with the arguments sample, output_lanugage, input_language\n",
    "# The method filter_vectors removes strings that are too short or too long.\n",
    "# It also removes translated pairs in which one string is much longer than the other.\n",
    "\n",
    "# Removing long strings makes building an IBM2 model much faster.\n",
    "\n",
    "v = Vectorizer(S, 'e', 'f')\n",
    "v.filter_vectors(min_length = 2, max_length = 50, max_ratio = 3)"
   ]
  },
  {
   "cell_type": "code",
   "execution_count": 7,
   "metadata": {},
   "outputs": [],
   "source": [
    "# Next, we fit a language model.\n",
    "# At present, there is only one: Bigram.\n",
    "# A Bigram object instantiates with the argument output_language.\n",
    "# The method fit takes a Vectorizer object.\n",
    "\n",
    "lm = Bigram('e')\n",
    "lm.fit(v)"
   ]
  },
  {
   "cell_type": "code",
   "execution_count": 8,
   "metadata": {},
   "outputs": [
    {
     "data": {
      "image/png": "[encoded data removed]",
      "text/plain": [
       "<Figure size 432x288 with 1 Axes>"
      ]
     },
     "metadata": {
      "needs_background": "light"
     },
     "output_type": "display_data"
    }
   ],
   "source": [
    "# Third, we fit some translation models.\n",
    "# IBM models must be fit in order.\n",
    "\n",
    "# First, we fit an IBM1 translation model.\n",
    "# An IBM1 object instantiates with the arguments output_language and input_language.\n",
    "# The method build_model takes a Vectorizer object and a threshold.\n",
    "# We choose a high threshold to facilitate fast learning.\n",
    "\n",
    "tm1 = IBM1('e', 'f')\n",
    "tm1.build_model(v, threshold = 0.05)"
   ]
  },
  {
   "cell_type": "code",
   "execution_count": 9,
   "metadata": {},
   "outputs": [
    {
     "data": {
      "image/png": "[encoded data removed]",
      "text/plain": [
       "<Figure size 432x288 with 1 Axes>"
      ]
     },
     "metadata": {
      "needs_background": "light"
     },
     "output_type": "display_data"
    }
   ],
   "source": [
    "# Next, we fit an IBM2 translation model.\n",
    "# The build_model method of IBM2 takes a Vectorizer object, an IBM1 object, and a threshold.\n",
    "# This takes longer to build than the IBM1 model.\n",
    "\n",
    "tm2 = IBM2('e', 'f')\n",
    "tm2.build_model(v, tm1, threshold = 0.05)"
   ]
  },
  {
   "cell_type": "code",
   "execution_count": 10,
   "metadata": {},
   "outputs": [
    {
     "name": "stdout",
     "output_type": "stream",
     "text": [
      "i think therefore i am\n",
      "i am therefore i think\n",
      "i am therefore think\n",
      "i am therefore not think\n"
     ]
    }
   ],
   "source": [
    "# Finally, we can use our models to translate.\n",
    "string = 'je pense, donc je suis'\n",
    "decode(string, tm1, lm, v, 10)"
   ]
  },
  {
   "cell_type": "code",
   "execution_count": 11,
   "metadata": {},
   "outputs": [
    {
     "name": "stdout",
     "output_type": "stream",
     "text": [
      "i think therefore i am\n",
      "i think danger i am\n"
     ]
    }
   ],
   "source": [
    "decode(string, tm2, lm, v, 10)"
   ]
  }
 ],
 "metadata": {
  "kernelspec": {
   "display_name": "Python 3",
   "language": "python",
   "name": "python3"
  },
  "language_info": {
   "codemirror_mode": {
    "name": "ipython",
    "version": 3
   },
   "file_extension": ".py",
   "mimetype": "text/x-python",
   "name": "python",
   "nbconvert_exporter": "python",
   "pygments_lexer": "ipython3",
   "version": "3.7.3"
  }
 },
 "nbformat": 4,
 "nbformat_minor": 2
}
